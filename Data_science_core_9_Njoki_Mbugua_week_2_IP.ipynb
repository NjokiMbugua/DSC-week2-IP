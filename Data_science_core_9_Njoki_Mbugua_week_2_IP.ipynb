{
  "nbformat": 4,
  "nbformat_minor": 0,
  "metadata": {
    "colab": {
      "name": "Data_science_core_9_Njoki_Mbugua_week_2_IP.ipynb",
      "provenance": [],
      "collapsed_sections": [],
      "authorship_tag": "ABX9TyPR5vtP0unUUAFZnhzdk8TD",
      "include_colab_link": true
    },
    "kernelspec": {
      "name": "python3",
      "display_name": "Python 3"
    },
    "language_info": {
      "name": "python"
    }
  },
  "cells": [
    {
      "cell_type": "markdown",
      "metadata": {
        "id": "view-in-github",
        "colab_type": "text"
      },
      "source": [
        "<a href=\"https://colab.research.google.com/github/NjokiMbugua/DSC-week2-IP/blob/main/Data_science_core_9_Njoki_Mbugua_week_2_IP.ipynb\" target=\"_parent\"><img src=\"https://colab.research.google.com/assets/colab-badge.svg\" alt=\"Open In Colab\"/></a>"
      ]
    },
    {
      "cell_type": "markdown",
      "metadata": {
        "id": "VWeuSura2DYw"
      },
      "source": [
        "#1.0 Exploratory Data Analysis and documentation\n",
        "\n",
        "\n",
        "\n",
        "\n"
      ]
    },
    {
      "cell_type": "markdown",
      "metadata": {
        "id": "rQavF2Ln2N9g"
      },
      "source": [
        "##1.1 Defining the Question"
      ]
    },
    {
      "cell_type": "markdown",
      "metadata": {
        "id": "4cm8K8Ac2ktt"
      },
      "source": [
        "### a) Specifying the Data Analytic Question"
      ]
    },
    {
      "cell_type": "markdown",
      "metadata": {
        "id": "mhV-ADaW79s7"
      },
      "source": [
        "The research problem is to figure out how we can predict which individuals are most likely to have or use a bank account."
      ]
    },
    {
      "cell_type": "markdown",
      "metadata": {
        "id": "RbCfWZgK2k8x"
      },
      "source": [
        "### b) Defining the Metric for Success"
      ]
    },
    {
      "cell_type": "code",
      "metadata": {
        "id": "7wAmQEep4peG"
      },
      "source": [
        "#1) Perform a Univariate analysis\n",
        "#2) Perform a Bivariate analysis\n",
        "#3) Perform a multivariate analysis"
      ],
      "execution_count": null,
      "outputs": []
    },
    {
      "cell_type": "markdown",
      "metadata": {
        "id": "gYI8z8av5PXr"
      },
      "source": [
        "### c) Understanding the context"
      ]
    },
    {
      "cell_type": "code",
      "metadata": {
        "id": "BxoA2DbQ5YXC"
      },
      "source": [
        "# Perform a background search to understand the data including studying the data set \n",
        "# attributes for proper planning of the analysis."
      ],
      "execution_count": null,
      "outputs": []
    },
    {
      "cell_type": "markdown",
      "metadata": {
        "id": "vCfnh_VW5ax9"
      },
      "source": [
        "### d) Recording the experimental design"
      ]
    },
    {
      "cell_type": "code",
      "metadata": {
        "id": "X8iithNv5i4A"
      },
      "source": [
        "# The approach taken in the EDA which include\n",
        "# data understanding\n",
        "# variable identification\n",
        "# data cleaning (anomalies, missing values, outliers)\n",
        "# data analysis(univariate,bivariate, multivariate)\n",
        "# deductions and recommenadations\n"
      ],
      "execution_count": null,
      "outputs": []
    },
    {
      "cell_type": "markdown",
      "metadata": {
        "id": "UegFwO4Q5nc-"
      },
      "source": [
        "### e) Data relevance."
      ]
    },
    {
      "cell_type": "code",
      "metadata": {
        "id": "6TzfG60n9gXF"
      },
      "source": [
        "# Checkind whether data is related to the topic of study and answers the research question"
      ],
      "execution_count": null,
      "outputs": []
    },
    {
      "cell_type": "markdown",
      "metadata": {
        "id": "9-54zq14z3Ry"
      },
      "source": [
        "# 2.0 Importing the Libraries"
      ]
    },
    {
      "cell_type": "code",
      "metadata": {
        "id": "9BFYoG6gwxZr"
      },
      "source": [
        "# Importing Numpy\n",
        "import numpy as np\n",
        "\n",
        "# Importing Pandas\n",
        "import pandas as pd\n",
        "\n",
        "# Importing Matplotlib\n",
        "import matplotlib.pyplot as plt\n",
        "\n",
        "# Importing Seaborn\n",
        "import seaborn as sns\n"
      ],
      "execution_count": 5,
      "outputs": []
    },
    {
      "cell_type": "markdown",
      "metadata": {
        "id": "QMbCT9aX0iuJ"
      },
      "source": [
        "# 3.0 Loading the dataset"
      ]
    },
    {
      "cell_type": "code",
      "metadata": {
        "colab": {
          "base_uri": "https://localhost:8080/",
          "height": 262
        },
        "id": "N87gAFg20y-x",
        "outputId": "a14658f4-8a60-4742-9a7f-106ff6b0c442"
      },
      "source": [
        "# Url = /content/Financial Dataset - 1 (1).csv\n",
        "financialdf = pd.read_csv('/content/Financial Dataset - 1 (1).csv')\n",
        "financialdf.head(3)"
      ],
      "execution_count": 8,
      "outputs": [
        {
          "output_type": "execute_result",
          "data": {
            "text/html": [
              "<div>\n",
              "<style scoped>\n",
              "    .dataframe tbody tr th:only-of-type {\n",
              "        vertical-align: middle;\n",
              "    }\n",
              "\n",
              "    .dataframe tbody tr th {\n",
              "        vertical-align: top;\n",
              "    }\n",
              "\n",
              "    .dataframe thead th {\n",
              "        text-align: right;\n",
              "    }\n",
              "</style>\n",
              "<table border=\"1\" class=\"dataframe\">\n",
              "  <thead>\n",
              "    <tr style=\"text-align: right;\">\n",
              "      <th></th>\n",
              "      <th>country</th>\n",
              "      <th>year</th>\n",
              "      <th>uniqueid</th>\n",
              "      <th>Has a Bank account</th>\n",
              "      <th>Type of Location</th>\n",
              "      <th>Cell Phone Access</th>\n",
              "      <th>household_size</th>\n",
              "      <th>Respondent Age</th>\n",
              "      <th>gender_of_respondent</th>\n",
              "      <th>The relathip with head</th>\n",
              "      <th>marital_status</th>\n",
              "      <th>Level of Educuation</th>\n",
              "      <th>Type of Job</th>\n",
              "    </tr>\n",
              "  </thead>\n",
              "  <tbody>\n",
              "    <tr>\n",
              "      <th>0</th>\n",
              "      <td>Kenya</td>\n",
              "      <td>2018</td>\n",
              "      <td>uniqueid_1</td>\n",
              "      <td>Yes</td>\n",
              "      <td>Rural</td>\n",
              "      <td>Yes</td>\n",
              "      <td>3.0</td>\n",
              "      <td>24.0</td>\n",
              "      <td>Female</td>\n",
              "      <td>Spouse</td>\n",
              "      <td>Married/Living together</td>\n",
              "      <td>Secondary education</td>\n",
              "      <td>Self employed</td>\n",
              "    </tr>\n",
              "    <tr>\n",
              "      <th>1</th>\n",
              "      <td>Kenya</td>\n",
              "      <td>2018</td>\n",
              "      <td>uniqueid_2</td>\n",
              "      <td>No</td>\n",
              "      <td>Rural</td>\n",
              "      <td>No</td>\n",
              "      <td>5.0</td>\n",
              "      <td>70.0</td>\n",
              "      <td>Female</td>\n",
              "      <td>Head of Household</td>\n",
              "      <td>Widowed</td>\n",
              "      <td>No formal education</td>\n",
              "      <td>Government Dependent</td>\n",
              "    </tr>\n",
              "    <tr>\n",
              "      <th>2</th>\n",
              "      <td>Kenya</td>\n",
              "      <td>2018</td>\n",
              "      <td>uniqueid_3</td>\n",
              "      <td>Yes</td>\n",
              "      <td>Urban</td>\n",
              "      <td>Yes</td>\n",
              "      <td>5.0</td>\n",
              "      <td>26.0</td>\n",
              "      <td>Male</td>\n",
              "      <td>Other relative</td>\n",
              "      <td>Single/Never Married</td>\n",
              "      <td>Vocational/Specialised training</td>\n",
              "      <td>Self employed</td>\n",
              "    </tr>\n",
              "  </tbody>\n",
              "</table>\n",
              "</div>"
            ],
            "text/plain": [
              "  country  year  ...              Level of Educuation           Type of Job\n",
              "0   Kenya  2018  ...              Secondary education         Self employed\n",
              "1   Kenya  2018  ...              No formal education  Government Dependent\n",
              "2   Kenya  2018  ...  Vocational/Specialised training         Self employed\n",
              "\n",
              "[3 rows x 13 columns]"
            ]
          },
          "metadata": {
            "tags": []
          },
          "execution_count": 8
        }
      ]
    },
    {
      "cell_type": "markdown",
      "metadata": {
        "id": "UBVkB93H5OZJ"
      },
      "source": [
        "# 4.0 Previewing the data set\n"
      ]
    },
    {
      "cell_type": "code",
      "metadata": {
        "colab": {
          "base_uri": "https://localhost:8080/"
        },
        "id": "Ta02SYejCsZt",
        "outputId": "a3c7cf85-47bb-41c3-a3bd-8d58d3a8813d"
      },
      "source": [
        "# Checking the shape of the dataset\n",
        "financialdf.shape"
      ],
      "execution_count": 9,
      "outputs": [
        {
          "output_type": "execute_result",
          "data": {
            "text/plain": [
              "(23524, 13)"
            ]
          },
          "metadata": {
            "tags": []
          },
          "execution_count": 9
        }
      ]
    },
    {
      "cell_type": "code",
      "metadata": {
        "colab": {
          "base_uri": "https://localhost:8080/"
        },
        "id": "eslkvxTT5WmD",
        "outputId": "4a35e2e1-7b97-45c5-de10-c1c333478a84"
      },
      "source": [
        "# Checking the data information\n",
        "#\n",
        "financialdf.info()"
      ],
      "execution_count": 10,
      "outputs": [
        {
          "output_type": "stream",
          "text": [
            "<class 'pandas.core.frame.DataFrame'>\n",
            "RangeIndex: 23524 entries, 0 to 23523\n",
            "Data columns (total 13 columns):\n",
            " #   Column                  Non-Null Count  Dtype  \n",
            "---  ------                  --------------  -----  \n",
            " 0   country                 23510 non-null  object \n",
            " 1   year                    23524 non-null  int64  \n",
            " 2   uniqueid                23524 non-null  object \n",
            " 3   Has a Bank account      23488 non-null  object \n",
            " 4   Type of Location        23509 non-null  object \n",
            " 5   Cell Phone Access       23513 non-null  object \n",
            " 6   household_size          23496 non-null  float64\n",
            " 7   Respondent Age          23490 non-null  float64\n",
            " 8   gender_of_respondent    23490 non-null  object \n",
            " 9   The relathip with head  23520 non-null  object \n",
            " 10  marital_status          23492 non-null  object \n",
            " 11  Level of Educuation     23495 non-null  object \n",
            " 12  Type of Job             23494 non-null  object \n",
            "dtypes: float64(2), int64(1), object(10)\n",
            "memory usage: 2.3+ MB\n"
          ],
          "name": "stdout"
        }
      ]
    },
    {
      "cell_type": "code",
      "metadata": {
        "colab": {
          "base_uri": "https://localhost:8080/"
        },
        "id": "m9d141FN5fP2",
        "outputId": "5355d608-a981-4dc0-d032-d379e0bd24a4"
      },
      "source": [
        "# Checking the columns\n",
        "#\n",
        "financialdf.columns"
      ],
      "execution_count": 5,
      "outputs": [
        {
          "output_type": "execute_result",
          "data": {
            "text/plain": [
              "Index(['country', 'year', 'uniqueid', 'Has a Bank account', 'Type of Location',\n",
              "       'Cell Phone Access', 'household_size', 'Respondent Age',\n",
              "       'gender_of_respondent', 'The relathip with head', 'marital_status',\n",
              "       'Level of Educuation', 'Type of Job'],\n",
              "      dtype='object')"
            ]
          },
          "metadata": {
            "tags": []
          },
          "execution_count": 5
        }
      ]
    },
    {
      "cell_type": "markdown",
      "metadata": {
        "id": "FHb9b6rI4Ajg"
      },
      "source": [
        "# 5.0 Cleaning the data set \n"
      ]
    },
    {
      "cell_type": "code",
      "metadata": {
        "colab": {
          "base_uri": "https://localhost:8080/",
          "height": 297
        },
        "id": "jir65kgCBEHT",
        "outputId": "37a03815-5701-4c8e-e11c-8417c3ac7772"
      },
      "source": [
        "# Checking for outliers\n",
        "sns.boxplot(data=financialdf,x=financialdf['Respondent Age'])"
      ],
      "execution_count": 6,
      "outputs": [
        {
          "output_type": "execute_result",
          "data": {
            "text/plain": [
              "<matplotlib.axes._subplots.AxesSubplot at 0x7f2a62739790>"
            ]
          },
          "metadata": {
            "tags": []
          },
          "execution_count": 6
        },
        {
          "output_type": "display_data",
          "data": {
            "image/png": "[encoded data removed]",
            "text/plain": [
              "<Figure size 432x288 with 1 Axes>"
            ]
          },
          "metadata": {
            "tags": [],
            "needs_background": "light"
          }
        }
      ]
    },
    {
      "cell_type": "code",
      "metadata": {
        "colab": {
          "base_uri": "https://localhost:8080/"
        },
        "id": "eM0qk0HXFVdo",
        "outputId": "e1b31fa8-e1da-4a47-e948-76fc8a51b648"
      },
      "source": [
        "#sns.boxplot(data=financialdf,x=financialdf['Respondent Age'])\n",
        "financialdf['Respondent Age'].describe()"
      ],
      "execution_count": 7,
      "outputs": [
        {
          "output_type": "execute_result",
          "data": {
            "text/plain": [
              "count    23490.000000\n",
              "mean        38.804300\n",
              "std         16.519996\n",
              "min         16.000000\n",
              "25%         26.000000\n",
              "50%         35.000000\n",
              "75%         49.000000\n",
              "max        100.000000\n",
              "Name: Respondent Age, dtype: float64"
            ]
          },
          "metadata": {
            "tags": []
          },
          "execution_count": 7
        }
      ]
    },
    {
      "cell_type": "code",
      "metadata": {
        "colab": {
          "base_uri": "https://localhost:8080/",
          "height": 298
        },
        "id": "xNBu2_CMF8F5",
        "outputId": "ce9eba55-f87b-460d-a5de-b1562a87ad9e"
      },
      "source": [
        "sns.boxplot(data=financialdf,x=financialdf['household_size'])"
      ],
      "execution_count": 8,
      "outputs": [
        {
          "output_type": "execute_result",
          "data": {
            "text/plain": [
              "<matplotlib.axes._subplots.AxesSubplot at 0x7f2a4e7ff3d0>"
            ]
          },
          "metadata": {
            "tags": []
          },
          "execution_count": 8
        },
        {
          "output_type": "display_data",
          "data": {
            "image/png": "[encoded data removed]",
            "text/plain": [
              "<Figure size 432x288 with 1 Axes>"
            ]
          },
          "metadata": {
            "tags": [],
            "needs_background": "light"
          }
        }
      ]
    },
    {
      "cell_type": "code",
      "metadata": {
        "colab": {
          "base_uri": "https://localhost:8080/"
        },
        "id": "DxK1N2yS-QVq",
        "outputId": "16ede528-1a0d-4082-d4cc-9c486f0dc20b"
      },
      "source": [
        "# Checking for anomalies/unique values\n",
        "#\n",
        "print(financialdf['country'].unique())"
      ],
      "execution_count": 9,
      "outputs": [
        {
          "output_type": "stream",
          "text": [
            "['Kenya' 'Rwanda' 'Tanzania' nan 'Uganda']\n"
          ],
          "name": "stdout"
        }
      ]
    },
    {
      "cell_type": "code",
      "metadata": {
        "colab": {
          "base_uri": "https://localhost:8080/"
        },
        "id": "zNa5Aum2Cb9i",
        "outputId": "f2f96608-5033-415f-ab9f-5fcd855ed739"
      },
      "source": [
        "print(financialdf['year'].unique())"
      ],
      "execution_count": 17,
      "outputs": [
        {
          "output_type": "stream",
          "text": [
            "[2018 2029 2056 2016 2039 2017]\n"
          ],
          "name": "stdout"
        }
      ]
    },
    {
      "cell_type": "code",
      "metadata": {
        "colab": {
          "base_uri": "https://localhost:8080/"
        },
        "id": "F23aVP2PCcIt",
        "outputId": "45fcd5f7-418e-4028-86a7-ef78e4cd93ae"
      },
      "source": [
        "print(financialdf['Respondent Age'].unique())"
      ],
      "execution_count": 16,
      "outputs": [
        {
          "output_type": "stream",
          "text": [
            "[ 24.         70.         26.         34.         32.         42.\n",
            "  54.         76.         40.         69.         64.         31.\n",
            "  38.         47.         27.         48.         25.         21.\n",
            "  18.         22.         58.         55.         62.         29.\n",
            "  35.         45.         67.         19.         80.         66.\n",
            "  50.         33.         28.         51.         16.         17.\n",
            "  30.         37.         59.         65.         46.         56.\n",
            "  52.         23.         43.         49.         44.         72.\n",
            "  53.         63.         39.         81.         78.         36.\n",
            "  20.         60.         95.         71.         57.         85.\n",
            "  68.         41.         61.         75.         86.         73.\n",
            "  38.8042997  93.         74.         88.         90.         77.\n",
            "  84.         82.         89.         79.         83.         94.\n",
            "  87.         92.         91.         98.         97.         96.\n",
            "  99.        100.       ]\n"
          ],
          "name": "stdout"
        }
      ]
    },
    {
      "cell_type": "code",
      "metadata": {
        "colab": {
          "base_uri": "https://localhost:8080/"
        },
        "id": "Rlh9Otd3CcRx",
        "outputId": "447e31d3-3c8f-4262-b6dc-b2bc22fa0a03"
      },
      "source": [
        "print(financialdf['Has a Bank account'].unique())"
      ],
      "execution_count": 15,
      "outputs": [
        {
          "output_type": "stream",
          "text": [
            "['Yes' 'No' nan]\n"
          ],
          "name": "stdout"
        }
      ]
    },
    {
      "cell_type": "code",
      "metadata": {
        "colab": {
          "base_uri": "https://localhost:8080/"
        },
        "id": "_3LRZdXsCcZx",
        "outputId": "ed22928a-03f5-4cea-ff92-50bde9695ce4"
      },
      "source": [
        "print(financialdf['gender_of_respondent'].unique())"
      ],
      "execution_count": 14,
      "outputs": [
        {
          "output_type": "stream",
          "text": [
            "['Female' 'Male' nan]\n"
          ],
          "name": "stdout"
        }
      ]
    },
    {
      "cell_type": "code",
      "metadata": {
        "colab": {
          "base_uri": "https://localhost:8080/"
        },
        "id": "-ket6Cx2Cch6",
        "outputId": "bcdf0814-aeb0-4078-a988-68a749ab21c0"
      },
      "source": [
        "print(financialdf['marital_status'].unique())\n",
        "print(financialdf['Type of Job'].unique())\n",
        "print(financialdf['Level of Educuation'].unique())\n"
      ],
      "execution_count": 13,
      "outputs": [
        {
          "output_type": "stream",
          "text": [
            "['Married/Living together' 'Widowed' 'Single/Never Married'\n",
            " 'Divorced/Seperated' 'Dont know' nan]\n",
            "['Self employed' 'Government Dependent' 'Formally employed Private'\n",
            " 'Informally employed' 'Formally employed Government'\n",
            " 'Farming and Fishing' 'Remittance Dependent' 'Other Income'\n",
            " 'Dont Know/Refuse to answer' nan 'No Income']\n",
            "['Secondary education' 'No formal education'\n",
            " 'Vocational/Specialised training' 'Primary education'\n",
            " 'Tertiary education' 'Other/Dont know/RTA' '6' nan]\n"
          ],
          "name": "stdout"
        }
      ]
    },
    {
      "cell_type": "code",
      "metadata": {
        "colab": {
          "base_uri": "https://localhost:8080/"
        },
        "id": "4IiHKddO1otB",
        "outputId": "fedf2c4e-f721-4b39-da25-83e7f1c27c06"
      },
      "source": [
        "# Identifying the Missing Data\n",
        "#\n",
        "financialdf.isnull().sum()"
      ],
      "execution_count": 12,
      "outputs": [
        {
          "output_type": "execute_result",
          "data": {
            "text/plain": [
              "country                   14\n",
              "year                       0\n",
              "uniqueid                   0\n",
              "Has a Bank account        36\n",
              "Type of Location          15\n",
              "Cell Phone Access         11\n",
              "household_size             0\n",
              "Respondent Age             0\n",
              "gender_of_respondent      34\n",
              "The relathip with head     4\n",
              "marital_status            32\n",
              "Level of Educuation       29\n",
              "Type of Job               30\n",
              "dtype: int64"
            ]
          },
          "metadata": {
            "tags": []
          },
          "execution_count": 12
        }
      ]
    },
    {
      "cell_type": "code",
      "metadata": {
        "id": "U0DULsUh47Zw"
      },
      "source": [
        "# Dealing with the Missing Data\n",
        "#nba[\"College\"].fillna(\"No College\", inplace = True)\n",
        "#financial_df['gender_of_respondent'].fillna\n",
        "financialdf.fillna(financialdf.mean(), inplace=True)"
      ],
      "execution_count": 11,
      "outputs": []
    },
    {
      "cell_type": "code",
      "metadata": {
        "colab": {
          "base_uri": "https://localhost:8080/"
        },
        "id": "jjP7JFzwYswP",
        "outputId": "3fbc5b5d-b7d7-4d8f-f378-c78531559f81"
      },
      "source": [
        "#(financialdf[['Has a Bank account',2,3,4,5]]==0].sum()\n",
        "financialdf.isnull().sum()\n"
      ],
      "execution_count": 17,
      "outputs": [
        {
          "output_type": "execute_result",
          "data": {
            "text/plain": [
              "country                   14\n",
              "year                       0\n",
              "uniqueid                   0\n",
              "Has a Bank account        36\n",
              "Type of Location          15\n",
              "Cell Phone Access         11\n",
              "household_size             0\n",
              "Respondent Age             0\n",
              "gender_of_respondent      34\n",
              "The relathip with head     4\n",
              "marital_status            32\n",
              "Level of Educuation       29\n",
              "Type of Job               30\n",
              "dtype: int64"
            ]
          },
          "metadata": {
            "tags": []
          },
          "execution_count": 17
        }
      ]
    },
    {
      "cell_type": "code",
      "metadata": {
        "id": "yIf37-bjbyeM"
      },
      "source": [
        "# Dealing with null values\n",
        "financialdf = financialdf.fillna(financialdf.mode().iloc[0])"
      ],
      "execution_count": 18,
      "outputs": []
    },
    {
      "cell_type": "code",
      "metadata": {
        "colab": {
          "base_uri": "https://localhost:8080/"
        },
        "id": "y1iKiS-stqg-",
        "outputId": "5e756fd9-a6e5-4442-b0fd-6af5636750e2"
      },
      "source": [
        "financialdf.isnull().sum()"
      ],
      "execution_count": 19,
      "outputs": [
        {
          "output_type": "execute_result",
          "data": {
            "text/plain": [
              "country                   0\n",
              "year                      0\n",
              "uniqueid                  0\n",
              "Has a Bank account        0\n",
              "Type of Location          0\n",
              "Cell Phone Access         0\n",
              "household_size            0\n",
              "Respondent Age            0\n",
              "gender_of_respondent      0\n",
              "The relathip with head    0\n",
              "marital_status            0\n",
              "Level of Educuation       0\n",
              "Type of Job               0\n",
              "dtype: int64"
            ]
          },
          "metadata": {
            "tags": []
          },
          "execution_count": 19
        }
      ]
    },
    {
      "cell_type": "code",
      "metadata": {
        "colab": {
          "base_uri": "https://localhost:8080/"
        },
        "id": "k9C_kB78t7SW",
        "outputId": "c945d8a9-a87d-420f-8e5d-3bd93b801eb3"
      },
      "source": [
        "financialdf.info()"
      ],
      "execution_count": 20,
      "outputs": [
        {
          "output_type": "stream",
          "text": [
            "<class 'pandas.core.frame.DataFrame'>\n",
            "RangeIndex: 23524 entries, 0 to 23523\n",
            "Data columns (total 13 columns):\n",
            " #   Column                  Non-Null Count  Dtype  \n",
            "---  ------                  --------------  -----  \n",
            " 0   country                 23524 non-null  object \n",
            " 1   year                    23524 non-null  int64  \n",
            " 2   uniqueid                23524 non-null  object \n",
            " 3   Has a Bank account      23524 non-null  object \n",
            " 4   Type of Location        23524 non-null  object \n",
            " 5   Cell Phone Access       23524 non-null  object \n",
            " 6   household_size          23524 non-null  float64\n",
            " 7   Respondent Age          23524 non-null  float64\n",
            " 8   gender_of_respondent    23524 non-null  object \n",
            " 9   The relathip with head  23524 non-null  object \n",
            " 10  marital_status          23524 non-null  object \n",
            " 11  Level of Educuation     23524 non-null  object \n",
            " 12  Type of Job             23524 non-null  object \n",
            "dtypes: float64(2), int64(1), object(10)\n",
            "memory usage: 2.3+ MB\n"
          ],
          "name": "stdout"
        }
      ]
    },
    {
      "cell_type": "code",
      "metadata": {
        "colab": {
          "base_uri": "https://localhost:8080/"
        },
        "id": "tFqFFwM8uUA5",
        "outputId": "b570b179-e4de-4a3f-eea5-4eb27a258c17"
      },
      "source": [
        "print(financialdf['marital_status'].unique())"
      ],
      "execution_count": 21,
      "outputs": [
        {
          "output_type": "stream",
          "text": [
            "['Married/Living together' 'Widowed' 'Single/Never Married'\n",
            " 'Divorced/Seperated' 'Dont know']\n"
          ],
          "name": "stdout"
        }
      ]
    },
    {
      "cell_type": "code",
      "metadata": {
        "colab": {
          "base_uri": "https://localhost:8080/"
        },
        "id": "8YpKPdtI47tH",
        "outputId": "4be5a3b3-7603-46a0-de2d-ece8426aa161"
      },
      "source": [
        "# Checking for duplicates\n",
        "#\n",
        "financialdf.duplicated().sum()"
      ],
      "execution_count": 22,
      "outputs": [
        {
          "output_type": "execute_result",
          "data": {
            "text/plain": [
              "0"
            ]
          },
          "metadata": {
            "tags": []
          },
          "execution_count": 22
        }
      ]
    },
    {
      "cell_type": "code",
      "metadata": {
        "id": "1oohD9RS48Fp"
      },
      "source": [
        "# Dropping unnecessary columns\n",
        "financialdf = financialdf.drop('uniqueid',1)"
      ],
      "execution_count": 23,
      "outputs": []
    },
    {
      "cell_type": "code",
      "metadata": {
        "id": "OhHZAcPBznft"
      },
      "source": [
        "# Renaming columns\n",
        "financialdf.rename({'Has a Bank account':'bank_account', \n",
        "                    'Cell Phone Access':'cellphone_access',\n",
        "                    'Type of Location':'location',\n",
        "                    'Respondent Age':'respondent_age',\n",
        "                    'The relathip with head':'relationship_with_head',\n",
        "                    'Level of Educuation':'education_level',\n",
        "                    'Type of Job':'job_type'},axis= 1, inplace = True)"
      ],
      "execution_count": 20,
      "outputs": []
    },
    {
      "cell_type": "code",
      "metadata": {
        "colab": {
          "base_uri": "https://localhost:8080/",
          "height": 210
        },
        "id": "LLtWa7v12YGB",
        "outputId": "adbd70eb-fe46-4900-81b8-00880e2c1b7a"
      },
      "source": [
        "financialdf.head(3)"
      ],
      "execution_count": 21,
      "outputs": [
        {
          "output_type": "execute_result",
          "data": {
            "text/html": [
              "<div>\n",
              "<style scoped>\n",
              "    .dataframe tbody tr th:only-of-type {\n",
              "        vertical-align: middle;\n",
              "    }\n",
              "\n",
              "    .dataframe tbody tr th {\n",
              "        vertical-align: top;\n",
              "    }\n",
              "\n",
              "    .dataframe thead th {\n",
              "        text-align: right;\n",
              "    }\n",
              "</style>\n",
              "<table border=\"1\" class=\"dataframe\">\n",
              "  <thead>\n",
              "    <tr style=\"text-align: right;\">\n",
              "      <th></th>\n",
              "      <th>country</th>\n",
              "      <th>year</th>\n",
              "      <th>uniqueid</th>\n",
              "      <th>bank_account</th>\n",
              "      <th>location</th>\n",
              "      <th>cellphone_access</th>\n",
              "      <th>household_size</th>\n",
              "      <th>respondent_age</th>\n",
              "      <th>gender_of_respondent</th>\n",
              "      <th>relationship_with_head</th>\n",
              "      <th>marital_status</th>\n",
              "      <th>education_level</th>\n",
              "      <th>job_type</th>\n",
              "    </tr>\n",
              "  </thead>\n",
              "  <tbody>\n",
              "    <tr>\n",
              "      <th>0</th>\n",
              "      <td>Kenya</td>\n",
              "      <td>2018</td>\n",
              "      <td>uniqueid_1</td>\n",
              "      <td>Yes</td>\n",
              "      <td>Rural</td>\n",
              "      <td>Yes</td>\n",
              "      <td>3.0</td>\n",
              "      <td>24.0</td>\n",
              "      <td>Female</td>\n",
              "      <td>Spouse</td>\n",
              "      <td>Married/Living together</td>\n",
              "      <td>Secondary education</td>\n",
              "      <td>Self employed</td>\n",
              "    </tr>\n",
              "    <tr>\n",
              "      <th>1</th>\n",
              "      <td>Kenya</td>\n",
              "      <td>2018</td>\n",
              "      <td>uniqueid_2</td>\n",
              "      <td>No</td>\n",
              "      <td>Rural</td>\n",
              "      <td>No</td>\n",
              "      <td>5.0</td>\n",
              "      <td>70.0</td>\n",
              "      <td>Female</td>\n",
              "      <td>Head of Household</td>\n",
              "      <td>Widowed</td>\n",
              "      <td>No formal education</td>\n",
              "      <td>Government Dependent</td>\n",
              "    </tr>\n",
              "    <tr>\n",
              "      <th>2</th>\n",
              "      <td>Kenya</td>\n",
              "      <td>2018</td>\n",
              "      <td>uniqueid_3</td>\n",
              "      <td>Yes</td>\n",
              "      <td>Urban</td>\n",
              "      <td>Yes</td>\n",
              "      <td>5.0</td>\n",
              "      <td>26.0</td>\n",
              "      <td>Male</td>\n",
              "      <td>Other relative</td>\n",
              "      <td>Single/Never Married</td>\n",
              "      <td>Vocational/Specialised training</td>\n",
              "      <td>Self employed</td>\n",
              "    </tr>\n",
              "  </tbody>\n",
              "</table>\n",
              "</div>"
            ],
            "text/plain": [
              "  country  year  ...                  education_level              job_type\n",
              "0   Kenya  2018  ...              Secondary education         Self employed\n",
              "1   Kenya  2018  ...              No formal education  Government Dependent\n",
              "2   Kenya  2018  ...  Vocational/Specialised training         Self employed\n",
              "\n",
              "[3 rows x 13 columns]"
            ]
          },
          "metadata": {
            "tags": []
          },
          "execution_count": 21
        }
      ]
    },
    {
      "cell_type": "code",
      "metadata": {
        "colab": {
          "base_uri": "https://localhost:8080/",
          "height": 322
        },
        "id": "Ke7PHy999ghr",
        "outputId": "21f3ff21-897c-4c17-e8af-19c7c7a57de7"
      },
      "source": [
        "#Changing yes and no columns to 1 and 0 \n",
        "financialdf = financialdf.replace(to_replace = \"Yes\", value = 1)\n",
        "financialdf = financialdf.replace(to_replace = \"No\", value = 0)\n",
        "financialdf.head()\n",
        "#financialdf = financialdf.replace(to_replace = {\"no\" : 0, \"yes\" : 1})\n",
        "#financialdf.head(3)\n"
      ],
      "execution_count": 22,
      "outputs": [
        {
          "output_type": "execute_result",
          "data": {
            "text/html": [
              "<div>\n",
              "<style scoped>\n",
              "    .dataframe tbody tr th:only-of-type {\n",
              "        vertical-align: middle;\n",
              "    }\n",
              "\n",
              "    .dataframe tbody tr th {\n",
              "        vertical-align: top;\n",
              "    }\n",
              "\n",
              "    .dataframe thead th {\n",
              "        text-align: right;\n",
              "    }\n",
              "</style>\n",
              "<table border=\"1\" class=\"dataframe\">\n",
              "  <thead>\n",
              "    <tr style=\"text-align: right;\">\n",
              "      <th></th>\n",
              "      <th>country</th>\n",
              "      <th>year</th>\n",
              "      <th>uniqueid</th>\n",
              "      <th>bank_account</th>\n",
              "      <th>location</th>\n",
              "      <th>cellphone_access</th>\n",
              "      <th>household_size</th>\n",
              "      <th>respondent_age</th>\n",
              "      <th>gender_of_respondent</th>\n",
              "      <th>relationship_with_head</th>\n",
              "      <th>marital_status</th>\n",
              "      <th>education_level</th>\n",
              "      <th>job_type</th>\n",
              "    </tr>\n",
              "  </thead>\n",
              "  <tbody>\n",
              "    <tr>\n",
              "      <th>0</th>\n",
              "      <td>Kenya</td>\n",
              "      <td>2018</td>\n",
              "      <td>uniqueid_1</td>\n",
              "      <td>1</td>\n",
              "      <td>Rural</td>\n",
              "      <td>1</td>\n",
              "      <td>3.0</td>\n",
              "      <td>24.0</td>\n",
              "      <td>Female</td>\n",
              "      <td>Spouse</td>\n",
              "      <td>Married/Living together</td>\n",
              "      <td>Secondary education</td>\n",
              "      <td>Self employed</td>\n",
              "    </tr>\n",
              "    <tr>\n",
              "      <th>1</th>\n",
              "      <td>Kenya</td>\n",
              "      <td>2018</td>\n",
              "      <td>uniqueid_2</td>\n",
              "      <td>0</td>\n",
              "      <td>Rural</td>\n",
              "      <td>0</td>\n",
              "      <td>5.0</td>\n",
              "      <td>70.0</td>\n",
              "      <td>Female</td>\n",
              "      <td>Head of Household</td>\n",
              "      <td>Widowed</td>\n",
              "      <td>No formal education</td>\n",
              "      <td>Government Dependent</td>\n",
              "    </tr>\n",
              "    <tr>\n",
              "      <th>2</th>\n",
              "      <td>Kenya</td>\n",
              "      <td>2018</td>\n",
              "      <td>uniqueid_3</td>\n",
              "      <td>1</td>\n",
              "      <td>Urban</td>\n",
              "      <td>1</td>\n",
              "      <td>5.0</td>\n",
              "      <td>26.0</td>\n",
              "      <td>Male</td>\n",
              "      <td>Other relative</td>\n",
              "      <td>Single/Never Married</td>\n",
              "      <td>Vocational/Specialised training</td>\n",
              "      <td>Self employed</td>\n",
              "    </tr>\n",
              "    <tr>\n",
              "      <th>3</th>\n",
              "      <td>Kenya</td>\n",
              "      <td>2018</td>\n",
              "      <td>uniqueid_4</td>\n",
              "      <td>0</td>\n",
              "      <td>Rural</td>\n",
              "      <td>1</td>\n",
              "      <td>5.0</td>\n",
              "      <td>34.0</td>\n",
              "      <td>Female</td>\n",
              "      <td>Head of Household</td>\n",
              "      <td>Married/Living together</td>\n",
              "      <td>Primary education</td>\n",
              "      <td>Formally employed Private</td>\n",
              "    </tr>\n",
              "    <tr>\n",
              "      <th>4</th>\n",
              "      <td>Kenya</td>\n",
              "      <td>2018</td>\n",
              "      <td>uniqueid_5</td>\n",
              "      <td>0</td>\n",
              "      <td>Urban</td>\n",
              "      <td>0</td>\n",
              "      <td>8.0</td>\n",
              "      <td>26.0</td>\n",
              "      <td>Male</td>\n",
              "      <td>Child</td>\n",
              "      <td>Single/Never Married</td>\n",
              "      <td>Primary education</td>\n",
              "      <td>Informally employed</td>\n",
              "    </tr>\n",
              "  </tbody>\n",
              "</table>\n",
              "</div>"
            ],
            "text/plain": [
              "  country  year  ...                  education_level                   job_type\n",
              "0   Kenya  2018  ...              Secondary education              Self employed\n",
              "1   Kenya  2018  ...              No formal education       Government Dependent\n",
              "2   Kenya  2018  ...  Vocational/Specialised training              Self employed\n",
              "3   Kenya  2018  ...                Primary education  Formally employed Private\n",
              "4   Kenya  2018  ...                Primary education        Informally employed\n",
              "\n",
              "[5 rows x 13 columns]"
            ]
          },
          "metadata": {
            "tags": []
          },
          "execution_count": 22
        }
      ]
    },
    {
      "cell_type": "markdown",
      "metadata": {
        "id": "0Xj2fuGX-Tqg"
      },
      "source": [
        "# 6.0 Univariate analysis"
      ]
    },
    {
      "cell_type": "code",
      "metadata": {
        "colab": {
          "base_uri": "https://localhost:8080/"
        },
        "id": "WtygoDCqADGf",
        "outputId": "bae8c3e2-ab84-4188-80b7-2ed253242159"
      },
      "source": [
        "# Creating our frequency table\n",
        "# Frequency table for gender\n",
        "financialdf.gender_of_respondent.value_counts()\n"
      ],
      "execution_count": 27,
      "outputs": [
        {
          "output_type": "execute_result",
          "data": {
            "text/plain": [
              "Female    13893\n",
              "Male       9631\n",
              "Name: gender_of_respondent, dtype: int64"
            ]
          },
          "metadata": {
            "tags": []
          },
          "execution_count": 27
        }
      ]
    },
    {
      "cell_type": "code",
      "metadata": {
        "colab": {
          "base_uri": "https://localhost:8080/"
        },
        "id": "TDx2t3XSC-lk",
        "outputId": "da719900-4ea7-4c32-e8d2-41c6e6b42e3e"
      },
      "source": [
        "# Frequency table for marital status\n",
        "financialdf.marital_status.value_counts()"
      ],
      "execution_count": 28,
      "outputs": [
        {
          "output_type": "execute_result",
          "data": {
            "text/plain": [
              "Married/Living together    10771\n",
              "Single/Never Married        7971\n",
              "Widowed                     2702\n",
              "Divorced/Seperated          2072\n",
              "Dont know                      8\n",
              "Name: marital_status, dtype: int64"
            ]
          },
          "metadata": {
            "tags": []
          },
          "execution_count": 28
        }
      ]
    },
    {
      "cell_type": "code",
      "metadata": {
        "colab": {
          "base_uri": "https://localhost:8080/",
          "height": 296
        },
        "id": "23ePAqJhDJWr",
        "outputId": "48f733ad-3a16-465e-b5bd-f613ce18a5c6"
      },
      "source": [
        "# Histogram of respondents age\n",
        "marital_status = financialdf['marital_status']\n",
        "\n",
        "plt.hist(marital_status, bins=10, histtype='bar', rwidth=0.9)\n",
        "plt.xlabel('bank_account')\n",
        "plt.ylabel('No. of people')\n",
        "plt.title('Histogram of Marital status')\n",
        "plt.grid()\n",
        "plt.show()\n"
      ],
      "execution_count": 29,
      "outputs": [
        {
          "output_type": "display_data",
          "data": {
            "image/png": "[encoded data removed]",
            "text/plain": [
              "<Figure size 432x288 with 1 Axes>"
            ]
          },
          "metadata": {
            "tags": [],
            "needs_background": "light"
          }
        }
      ]
    },
    {
      "cell_type": "code",
      "metadata": {
        "colab": {
          "base_uri": "https://localhost:8080/",
          "height": 298
        },
        "id": "AtRje309oWYm",
        "outputId": "6d5f9304-8dcb-4814-8e63-dcbd9d9fcd91"
      },
      "source": [
        "# Histogram of bank account ownership by gender\n",
        "\n",
        "sns.countplot(x='bank_account',hue='gender_of_respondent',data=financialdf)\n",
        "\n",
        "# From the graph more male were more likely to own a bank account than females."
      ],
      "execution_count": 30,
      "outputs": [
        {
          "output_type": "execute_result",
          "data": {
            "text/plain": [
              "<matplotlib.axes._subplots.AxesSubplot at 0x7f2a4e25b350>"
            ]
          },
          "metadata": {
            "tags": []
          },
          "execution_count": 30
        },
        {
          "output_type": "display_data",
          "data": {
            "image/png": "[encoded data removed]",
            "text/plain": [
              "<Figure size 432x288 with 1 Axes>"
            ]
          },
          "metadata": {
            "tags": [],
            "needs_background": "light"
          }
        }
      ]
    },
    {
      "cell_type": "code",
      "metadata": {
        "colab": {
          "base_uri": "https://localhost:8080/",
          "height": 298
        },
        "id": "Wjyzcd_DRKtj",
        "outputId": "4d563dc7-f6b8-4390-f1ca-e66349c50c0f"
      },
      "source": [
        "# Histogram of bank account ownership vs location\n",
        "sns.countplot(x='bank_account',hue='location',data=financialdf)\n",
        "\n",
        "# The graph shows that almost equal number of people from rural and urban areas own a bank account\n",
        "# thus location may not influence whether a person owns a bank account or not."
      ],
      "execution_count": 85,
      "outputs": [
        {
          "output_type": "execute_result",
          "data": {
            "text/plain": [
              "<matplotlib.axes._subplots.AxesSubplot at 0x7f2a3bbe2250>"
            ]
          },
          "metadata": {
            "tags": []
          },
          "execution_count": 85
        },
        {
          "output_type": "display_data",
          "data": {
            "image/png": "[encoded data removed]",
            "text/plain": [
              "<Figure size 432x288 with 1 Axes>"
            ]
          },
          "metadata": {
            "tags": [],
            "needs_background": "light"
          }
        }
      ]
    },
    {
      "cell_type": "code",
      "metadata": {
        "colab": {
          "base_uri": "https://localhost:8080/"
        },
        "id": "tKaqph3hK8VK",
        "outputId": "a57889cb-0a20-4578-8903-42754f60229b"
      },
      "source": [
        "# Measures of central tendency\n",
        "# household size\n",
        "financialdf[\"household_size\"].describe()"
      ],
      "execution_count": 31,
      "outputs": [
        {
          "output_type": "execute_result",
          "data": {
            "text/plain": [
              "count    23524.000000\n",
              "mean         3.681818\n",
              "std          2.278576\n",
              "min          0.000000\n",
              "25%          2.000000\n",
              "50%          3.000000\n",
              "75%          5.000000\n",
              "max         21.000000\n",
              "Name: household_size, dtype: float64"
            ]
          },
          "metadata": {
            "tags": []
          },
          "execution_count": 31
        }
      ]
    },
    {
      "cell_type": "code",
      "metadata": {
        "colab": {
          "base_uri": "https://localhost:8080/"
        },
        "id": "nDAQ8IObOIjP",
        "outputId": "e8267aa5-b8c1-423a-c1cf-1dca18c664e9"
      },
      "source": [
        "# Measures of central tendency\n",
        "# Respondents age\n",
        "financialdf[\"respondent_age\"].describe()"
      ],
      "execution_count": 32,
      "outputs": [
        {
          "output_type": "execute_result",
          "data": {
            "text/plain": [
              "count    23524.000000\n",
              "mean        38.804300\n",
              "std         16.508053\n",
              "min         16.000000\n",
              "25%         26.000000\n",
              "50%         35.000000\n",
              "75%         49.000000\n",
              "max        100.000000\n",
              "Name: respondent_age, dtype: float64"
            ]
          },
          "metadata": {
            "tags": []
          },
          "execution_count": 32
        }
      ]
    },
    {
      "cell_type": "code",
      "metadata": {
        "colab": {
          "base_uri": "https://localhost:8080/"
        },
        "id": "tEK2GGRpPwO3",
        "outputId": "73385c22-fc63-486e-af28-00b1e81f2b2c"
      },
      "source": [
        "# Measures of central tendency-Skewness\n",
        "financialdf.skew()"
      ],
      "execution_count": 33,
      "outputs": [
        {
          "output_type": "execute_result",
          "data": {
            "text/plain": [
              "year                4.222798\n",
              "bank_account        2.067204\n",
              "cellphone_access   -1.107588\n",
              "household_size      0.978235\n",
              "respondent_age      0.842410\n",
              "dtype: float64"
            ]
          },
          "metadata": {
            "tags": []
          },
          "execution_count": 33
        }
      ]
    },
    {
      "cell_type": "code",
      "metadata": {
        "colab": {
          "base_uri": "https://localhost:8080/"
        },
        "id": "-mPMcSWYQk0u",
        "outputId": "28b9661f-437c-486f-8448-e8efd9212dfd"
      },
      "source": [
        "# Measures of central tendency-Kurtosis\n",
        "\n",
        "financialdf.kurt()"
      ],
      "execution_count": 34,
      "outputs": [
        {
          "output_type": "execute_result",
          "data": {
            "text/plain": [
              "year                165.195071\n",
              "bank_account          2.273525\n",
              "cellphone_access     -0.773314\n",
              "household_size        1.163109\n",
              "respondent_age        0.105597\n",
              "dtype: float64"
            ]
          },
          "metadata": {
            "tags": []
          },
          "execution_count": 34
        }
      ]
    },
    {
      "cell_type": "markdown",
      "metadata": {
        "id": "PBpQY5lgyaUK"
      },
      "source": [
        "# 7.0 Bivariate analysis\n"
      ]
    },
    {
      "cell_type": "code",
      "metadata": {
        "colab": {
          "base_uri": "https://localhost:8080/",
          "height": 296
        },
        "id": "sbvm3k_xyhII",
        "outputId": "bf00f1ba-52ac-41bf-cbd7-40a0f20c5a99"
      },
      "source": [
        "#Scatter plot showing relationship between age and household size\n",
        "#plt.scatter(x=financialdf['respondent_age'],y=financialdf['household_size'])\n",
        "#plt.title('respondent_age vs household_size')\n",
        "#plt.xlabel('respondent_age')\n",
        "#plt.ylabel('household_size')\n",
        "#plt.show()\n",
        "\n",
        "sns.regplot(x = financialdf['respondent_age'],y=financialdf['household_size'])\n",
        "plt.xlabel('respondent_age')\n",
        "plt.ylabel('household_size')\n",
        "plt.title('Respondent age vs Household size')\n",
        "plt.show()\n",
        "\n",
        "# From the graph there is no relationship between respondent age and household size."
      ],
      "execution_count": 76,
      "outputs": [
        {
          "output_type": "display_data",
          "data": {
            "image/png": "[encoded data removed]",
            "text/plain": [
              "<Figure size 432x288 with 1 Axes>"
            ]
          },
          "metadata": {
            "tags": [],
            "needs_background": "light"
          }
        }
      ]
    },
    {
      "cell_type": "code",
      "metadata": {
        "colab": {
          "base_uri": "https://localhost:8080/",
          "height": 371
        },
        "id": "JAqzWiXE2OGU",
        "outputId": "a07f907e-38d4-4537-988c-2e4ba2c647ad"
      },
      "source": [
        "# Calculating the correlation\n",
        "sns.heatmap(financialdf.corr(),annot=True)\n",
        "plt.show()\n"
      ],
      "execution_count": 75,
      "outputs": [
        {
          "output_type": "display_data",
          "data": {
            "image/png": "[encoded data removed]",
            "text/plain": [
              "<Figure size 432x288 with 2 Axes>"
            ]
          },
          "metadata": {
            "tags": [],
            "needs_background": "light"
          }
        }
      ]
    },
    {
      "cell_type": "code",
      "metadata": {
        "colab": {
          "base_uri": "https://localhost:8080/",
          "height": 292
        },
        "id": "DQfkPIDvKTfj",
        "outputId": "8d34fe4f-8909-41d7-a50e-d6a2d01a73cc"
      },
      "source": [
        "#financialdf=financialdf.groupby(financialdf['bank_account'],as_index=False)['respondent_age'].sum()\n",
        "#financialdf\n",
        "chart = financialdf.groupby('bank_account')['marital_status'].value_counts(normalize=True).unstack()\n",
        "chart.plot(kind='bar', stacked='True')\n",
        "plt.ylabel(\"No. of Respondents\")\n",
        "plt.xlabel(\"bank account\")\n",
        "plt.legend(loc=\"upper right\")\n",
        "plt.title(\"Bank account ownership in relation to marital status\")\n",
        "plt.show()\n"
      ],
      "execution_count": 23,
      "outputs": [
        {
          "output_type": "display_data",
          "data": {
            "image/png": "[encoded data removed]",
            "text/plain": [
              "<Figure size 432x288 with 1 Axes>"
            ]
          },
          "metadata": {
            "tags": [],
            "needs_background": "light"
          }
        }
      ]
    },
    {
      "cell_type": "markdown",
      "metadata": {
        "id": "xS95hIZAB-SN"
      },
      "source": [
        "# 8.0 Multivariate analysis"
      ]
    },
    {
      "cell_type": "code",
      "metadata": {
        "id": "t3uTYGaH_dXi"
      },
      "source": [
        "# Pricipal Component Analysis"
      ],
      "execution_count": null,
      "outputs": []
    },
    {
      "cell_type": "code",
      "metadata": {
        "colab": {
          "base_uri": "https://localhost:8080/",
          "height": 168
        },
        "id": "dQS9SQwXEVtn",
        "outputId": "991d134a-990d-46ce-feb2-a965a24c6536"
      },
      "source": [
        "# Previewing the data set\n",
        "financialdf.head(4)"
      ],
      "execution_count": 45,
      "outputs": [
        {
          "output_type": "execute_result",
          "data": {
            "text/html": [
              "<div>\n",
              "<style scoped>\n",
              "    .dataframe tbody tr th:only-of-type {\n",
              "        vertical-align: middle;\n",
              "    }\n",
              "\n",
              "    .dataframe tbody tr th {\n",
              "        vertical-align: top;\n",
              "    }\n",
              "\n",
              "    .dataframe thead th {\n",
              "        text-align: right;\n",
              "    }\n",
              "</style>\n",
              "<table border=\"1\" class=\"dataframe\">\n",
              "  <thead>\n",
              "    <tr style=\"text-align: right;\">\n",
              "      <th></th>\n",
              "      <th>bank_account</th>\n",
              "      <th>location</th>\n",
              "      <th>cellphone_access</th>\n",
              "      <th>household_size</th>\n",
              "      <th>respondent_age</th>\n",
              "      <th>gender_of_respondent</th>\n",
              "      <th>marital_status</th>\n",
              "      <th>education_level</th>\n",
              "      <th>job_type</th>\n",
              "    </tr>\n",
              "  </thead>\n",
              "  <tbody>\n",
              "    <tr>\n",
              "      <th>0</th>\n",
              "      <td>1</td>\n",
              "      <td>1</td>\n",
              "      <td>1</td>\n",
              "      <td>3.0</td>\n",
              "      <td>24.0</td>\n",
              "      <td>Female</td>\n",
              "      <td>1</td>\n",
              "      <td>2</td>\n",
              "      <td>0</td>\n",
              "    </tr>\n",
              "    <tr>\n",
              "      <th>1</th>\n",
              "      <td>0</td>\n",
              "      <td>1</td>\n",
              "      <td>0</td>\n",
              "      <td>5.0</td>\n",
              "      <td>70.0</td>\n",
              "      <td>Female</td>\n",
              "      <td>3</td>\n",
              "      <td>0</td>\n",
              "      <td>1</td>\n",
              "    </tr>\n",
              "    <tr>\n",
              "      <th>2</th>\n",
              "      <td>1</td>\n",
              "      <td>0</td>\n",
              "      <td>1</td>\n",
              "      <td>5.0</td>\n",
              "      <td>26.0</td>\n",
              "      <td>Male</td>\n",
              "      <td>2</td>\n",
              "      <td>4</td>\n",
              "      <td>0</td>\n",
              "    </tr>\n",
              "    <tr>\n",
              "      <th>3</th>\n",
              "      <td>0</td>\n",
              "      <td>1</td>\n",
              "      <td>1</td>\n",
              "      <td>5.0</td>\n",
              "      <td>34.0</td>\n",
              "      <td>Female</td>\n",
              "      <td>1</td>\n",
              "      <td>1</td>\n",
              "      <td>2</td>\n",
              "    </tr>\n",
              "  </tbody>\n",
              "</table>\n",
              "</div>"
            ],
            "text/plain": [
              "   bank_account  location  ...  education_level  job_type\n",
              "0             1         1  ...                2         0\n",
              "1             0         1  ...                0         1\n",
              "2             1         0  ...                4         0\n",
              "3             0         1  ...                1         2\n",
              "\n",
              "[4 rows x 9 columns]"
            ]
          },
          "metadata": {
            "tags": []
          },
          "execution_count": 45
        }
      ]
    },
    {
      "cell_type": "code",
      "metadata": {
        "colab": {
          "base_uri": "https://localhost:8080/",
          "height": 158
        },
        "id": "70go5H8RJAVz",
        "outputId": "83eb47ee-e0ff-46c3-d830-61fc02e7536b"
      },
      "source": [
        "# Converting string variables to integers.\n",
        "financialdf = financialdf.replace(to_replace = \"Female\", value = 1)\n",
        "financialdf = financialdf.replace(to_replace = \"Male\", value = 0)\n",
        "financialdf.head(3)"
      ],
      "execution_count": 46,
      "outputs": [
        {
          "output_type": "execute_result",
          "data": {
            "text/html": [
              "<div>\n",
              "<style scoped>\n",
              "    .dataframe tbody tr th:only-of-type {\n",
              "        vertical-align: middle;\n",
              "    }\n",
              "\n",
              "    .dataframe tbody tr th {\n",
              "        vertical-align: top;\n",
              "    }\n",
              "\n",
              "    .dataframe thead th {\n",
              "        text-align: right;\n",
              "    }\n",
              "</style>\n",
              "<table border=\"1\" class=\"dataframe\">\n",
              "  <thead>\n",
              "    <tr style=\"text-align: right;\">\n",
              "      <th></th>\n",
              "      <th>bank_account</th>\n",
              "      <th>location</th>\n",
              "      <th>cellphone_access</th>\n",
              "      <th>household_size</th>\n",
              "      <th>respondent_age</th>\n",
              "      <th>gender_of_respondent</th>\n",
              "      <th>marital_status</th>\n",
              "      <th>education_level</th>\n",
              "      <th>job_type</th>\n",
              "    </tr>\n",
              "  </thead>\n",
              "  <tbody>\n",
              "    <tr>\n",
              "      <th>0</th>\n",
              "      <td>1</td>\n",
              "      <td>1</td>\n",
              "      <td>1</td>\n",
              "      <td>3.0</td>\n",
              "      <td>24.0</td>\n",
              "      <td>1</td>\n",
              "      <td>1</td>\n",
              "      <td>2</td>\n",
              "      <td>0</td>\n",
              "    </tr>\n",
              "    <tr>\n",
              "      <th>1</th>\n",
              "      <td>0</td>\n",
              "      <td>1</td>\n",
              "      <td>0</td>\n",
              "      <td>5.0</td>\n",
              "      <td>70.0</td>\n",
              "      <td>1</td>\n",
              "      <td>3</td>\n",
              "      <td>0</td>\n",
              "      <td>1</td>\n",
              "    </tr>\n",
              "    <tr>\n",
              "      <th>2</th>\n",
              "      <td>1</td>\n",
              "      <td>0</td>\n",
              "      <td>1</td>\n",
              "      <td>5.0</td>\n",
              "      <td>26.0</td>\n",
              "      <td>0</td>\n",
              "      <td>2</td>\n",
              "      <td>4</td>\n",
              "      <td>0</td>\n",
              "    </tr>\n",
              "  </tbody>\n",
              "</table>\n",
              "</div>"
            ],
            "text/plain": [
              "   bank_account  location  ...  education_level  job_type\n",
              "0             1         1  ...                2         0\n",
              "1             0         1  ...                0         1\n",
              "2             1         0  ...                4         0\n",
              "\n",
              "[3 rows x 9 columns]"
            ]
          },
          "metadata": {
            "tags": []
          },
          "execution_count": 46
        }
      ]
    },
    {
      "cell_type": "code",
      "metadata": {
        "colab": {
          "base_uri": "https://localhost:8080/",
          "height": 98
        },
        "id": "8Mir2aPEK-Ij",
        "outputId": "19298c22-6d27-449f-8c5b-ed6634b90f0b"
      },
      "source": [
        "financialdf = financialdf.replace(to_replace = \"Rural\", value = 1)\n",
        "financialdf = financialdf.replace(to_replace = \"Urban\", value = 0)\n",
        "\n",
        "financialdf.head(1)"
      ],
      "execution_count": 47,
      "outputs": [
        {
          "output_type": "execute_result",
          "data": {
            "text/html": [
              "<div>\n",
              "<style scoped>\n",
              "    .dataframe tbody tr th:only-of-type {\n",
              "        vertical-align: middle;\n",
              "    }\n",
              "\n",
              "    .dataframe tbody tr th {\n",
              "        vertical-align: top;\n",
              "    }\n",
              "\n",
              "    .dataframe thead th {\n",
              "        text-align: right;\n",
              "    }\n",
              "</style>\n",
              "<table border=\"1\" class=\"dataframe\">\n",
              "  <thead>\n",
              "    <tr style=\"text-align: right;\">\n",
              "      <th></th>\n",
              "      <th>bank_account</th>\n",
              "      <th>location</th>\n",
              "      <th>cellphone_access</th>\n",
              "      <th>household_size</th>\n",
              "      <th>respondent_age</th>\n",
              "      <th>gender_of_respondent</th>\n",
              "      <th>marital_status</th>\n",
              "      <th>education_level</th>\n",
              "      <th>job_type</th>\n",
              "    </tr>\n",
              "  </thead>\n",
              "  <tbody>\n",
              "    <tr>\n",
              "      <th>0</th>\n",
              "      <td>1</td>\n",
              "      <td>1</td>\n",
              "      <td>1</td>\n",
              "      <td>3.0</td>\n",
              "      <td>24.0</td>\n",
              "      <td>1</td>\n",
              "      <td>1</td>\n",
              "      <td>2</td>\n",
              "      <td>0</td>\n",
              "    </tr>\n",
              "  </tbody>\n",
              "</table>\n",
              "</div>"
            ],
            "text/plain": [
              "   bank_account  location  ...  education_level  job_type\n",
              "0             1         1  ...                2         0\n",
              "\n",
              "[1 rows x 9 columns]"
            ]
          },
          "metadata": {
            "tags": []
          },
          "execution_count": 47
        }
      ]
    },
    {
      "cell_type": "code",
      "metadata": {
        "id": "zv36qv2HPRxQ"
      },
      "source": [
        "financialdf = financialdf.replace(to_replace = \"Rural\", value = 1)\n",
        "financialdf = financialdf.replace(to_replace = \"Urban\", value = 0)"
      ],
      "execution_count": 48,
      "outputs": []
    },
    {
      "cell_type": "code",
      "metadata": {
        "id": "eSR-1Pw6Srkt"
      },
      "source": [
        "financialdf = financialdf.replace(to_replace = \"Self employed\", value = 0)\n",
        "financialdf = financialdf.replace(to_replace = \"Government Dependent\", value = 1)\n",
        "financialdf = financialdf.replace(to_replace = \"Formally employed Private\", value = 2)\n",
        "financialdf = financialdf.replace(to_replace = \"Informally employed\", value = 3)\n",
        "financialdf = financialdf.replace(to_replace = \"Farming and Fishing\", value = 4)\n",
        "financialdf = financialdf.replace(to_replace = \"Informally employed\", value = 5)\n",
        "financialdf = financialdf.replace(to_replace = \"Dont Know/Refuse to answer\", value = 6)\n",
        "financialdf = financialdf.replace(to_replace = \"No Income\", value = 7)\n",
        "financialdf = financialdf.replace(to_replace = \"Other Income\", value = 8)\n",
        "financialdf = financialdf.replace(to_replace = \"Remittance Dependent\", value = 9)\n",
        "financialdf = financialdf.replace(to_replace = \"Formally employed Government\", value = 10)"
      ],
      "execution_count": 43,
      "outputs": []
    },
    {
      "cell_type": "code",
      "metadata": {
        "id": "1farm2oPXNuA"
      },
      "source": [
        "financialdf = financialdf.replace(to_replace = \"No formal education\", value = 0)\n",
        "financialdf = financialdf.replace(to_replace = \"Primary education\", value = 1)\n",
        "financialdf = financialdf.replace(to_replace = \"Secondary education\", value = 2)\n",
        "financialdf = financialdf.replace(to_replace = \"Tertiary education\", value = 3)\n",
        "financialdf = financialdf.replace(to_replace = \"Vocational/Specialised training\", value = 4)\n",
        "financialdf = financialdf.replace(to_replace = \"Other/Dont know/RTA\", value = 5)\n",
        "financialdf = financialdf.replace(to_replace = \"6\", value = 5)"
      ],
      "execution_count": 42,
      "outputs": []
    },
    {
      "cell_type": "code",
      "metadata": {
        "id": "CUaZWDqSYXet"
      },
      "source": [
        "financialdf = financialdf.replace(to_replace = \"Divorced/Seperated\", value = 0)\n",
        "financialdf = financialdf.replace(to_replace = \"Married/Living together\", value = 1)\n",
        "financialdf = financialdf.replace(to_replace = \"Single/Never Married\", value = 2)\n",
        "financialdf = financialdf.replace(to_replace = \"Widowed\", value = 3)\n",
        "financialdf = financialdf.replace(to_replace = \"Dont know\", value = 4)"
      ],
      "execution_count": 41,
      "outputs": []
    },
    {
      "cell_type": "code",
      "metadata": {
        "colab": {
          "base_uri": "https://localhost:8080/"
        },
        "id": "n7QBrYdpoGrP",
        "outputId": "f9ac0c62-cb9f-4797-8f5f-203e3fda5d79"
      },
      "source": [
        "#financialdf.astype(int)\n",
        "#financialdf.head(5)\n",
        "financialdf['bank_account'].unique()"
      ],
      "execution_count": 49,
      "outputs": [
        {
          "output_type": "execute_result",
          "data": {
            "text/plain": [
              "array([1, 0])"
            ]
          },
          "metadata": {
            "tags": []
          },
          "execution_count": 49
        }
      ]
    },
    {
      "cell_type": "code",
      "metadata": {
        "id": "jmAwzbumD36O"
      },
      "source": [
        "financialdf.drop(['relationship_with_head', 'country', 'year'],axis=1,inplace=True)"
      ],
      "execution_count": 39,
      "outputs": []
    },
    {
      "cell_type": "code",
      "metadata": {
        "colab": {
          "base_uri": "https://localhost:8080/"
        },
        "id": "JEmTDYZ4dID9",
        "outputId": "5dd1f8dd-bf8c-44a9-bfcd-a40fe751d60d"
      },
      "source": [
        "financialdf.info()"
      ],
      "execution_count": 40,
      "outputs": [
        {
          "output_type": "stream",
          "text": [
            "<class 'pandas.core.frame.DataFrame'>\n",
            "RangeIndex: 23524 entries, 0 to 23523\n",
            "Data columns (total 9 columns):\n",
            " #   Column                Non-Null Count  Dtype  \n",
            "---  ------                --------------  -----  \n",
            " 0   bank_account          23524 non-null  int64  \n",
            " 1   location              23524 non-null  object \n",
            " 2   cellphone_access      23524 non-null  int64  \n",
            " 3   household_size        23524 non-null  float64\n",
            " 4   respondent_age        23524 non-null  float64\n",
            " 5   gender_of_respondent  23524 non-null  object \n",
            " 6   marital_status        23524 non-null  object \n",
            " 7   education_level       23524 non-null  object \n",
            " 8   job_type              23524 non-null  object \n",
            "dtypes: float64(2), int64(2), object(5)\n",
            "memory usage: 1.6+ MB\n"
          ],
          "name": "stdout"
        }
      ]
    },
    {
      "cell_type": "code",
      "metadata": {
        "colab": {
          "base_uri": "https://localhost:8080/",
          "height": 198
        },
        "id": "2KCVNJr6o-dM",
        "outputId": "53602c1d-7147-4b36-c37f-a21fd0b64f7a"
      },
      "source": [
        "financialdf.astype(int)\n",
        "financialdf.head(5)"
      ],
      "execution_count": 50,
      "outputs": [
        {
          "output_type": "execute_result",
          "data": {
            "text/html": [
              "<div>\n",
              "<style scoped>\n",
              "    .dataframe tbody tr th:only-of-type {\n",
              "        vertical-align: middle;\n",
              "    }\n",
              "\n",
              "    .dataframe tbody tr th {\n",
              "        vertical-align: top;\n",
              "    }\n",
              "\n",
              "    .dataframe thead th {\n",
              "        text-align: right;\n",
              "    }\n",
              "</style>\n",
              "<table border=\"1\" class=\"dataframe\">\n",
              "  <thead>\n",
              "    <tr style=\"text-align: right;\">\n",
              "      <th></th>\n",
              "      <th>bank_account</th>\n",
              "      <th>location</th>\n",
              "      <th>cellphone_access</th>\n",
              "      <th>household_size</th>\n",
              "      <th>respondent_age</th>\n",
              "      <th>gender_of_respondent</th>\n",
              "      <th>marital_status</th>\n",
              "      <th>education_level</th>\n",
              "      <th>job_type</th>\n",
              "    </tr>\n",
              "  </thead>\n",
              "  <tbody>\n",
              "    <tr>\n",
              "      <th>0</th>\n",
              "      <td>1</td>\n",
              "      <td>1</td>\n",
              "      <td>1</td>\n",
              "      <td>3.0</td>\n",
              "      <td>24.0</td>\n",
              "      <td>1</td>\n",
              "      <td>1</td>\n",
              "      <td>2</td>\n",
              "      <td>0</td>\n",
              "    </tr>\n",
              "    <tr>\n",
              "      <th>1</th>\n",
              "      <td>0</td>\n",
              "      <td>1</td>\n",
              "      <td>0</td>\n",
              "      <td>5.0</td>\n",
              "      <td>70.0</td>\n",
              "      <td>1</td>\n",
              "      <td>3</td>\n",
              "      <td>0</td>\n",
              "      <td>1</td>\n",
              "    </tr>\n",
              "    <tr>\n",
              "      <th>2</th>\n",
              "      <td>1</td>\n",
              "      <td>0</td>\n",
              "      <td>1</td>\n",
              "      <td>5.0</td>\n",
              "      <td>26.0</td>\n",
              "      <td>0</td>\n",
              "      <td>2</td>\n",
              "      <td>4</td>\n",
              "      <td>0</td>\n",
              "    </tr>\n",
              "    <tr>\n",
              "      <th>3</th>\n",
              "      <td>0</td>\n",
              "      <td>1</td>\n",
              "      <td>1</td>\n",
              "      <td>5.0</td>\n",
              "      <td>34.0</td>\n",
              "      <td>1</td>\n",
              "      <td>1</td>\n",
              "      <td>1</td>\n",
              "      <td>2</td>\n",
              "    </tr>\n",
              "    <tr>\n",
              "      <th>4</th>\n",
              "      <td>0</td>\n",
              "      <td>0</td>\n",
              "      <td>0</td>\n",
              "      <td>8.0</td>\n",
              "      <td>26.0</td>\n",
              "      <td>0</td>\n",
              "      <td>2</td>\n",
              "      <td>1</td>\n",
              "      <td>3</td>\n",
              "    </tr>\n",
              "  </tbody>\n",
              "</table>\n",
              "</div>"
            ],
            "text/plain": [
              "   bank_account  location  ...  education_level  job_type\n",
              "0             1         1  ...                2         0\n",
              "1             0         1  ...                0         1\n",
              "2             1         0  ...                4         0\n",
              "3             0         1  ...                1         2\n",
              "4             0         0  ...                1         3\n",
              "\n",
              "[5 rows x 9 columns]"
            ]
          },
          "metadata": {
            "tags": []
          },
          "execution_count": 50
        }
      ]
    },
    {
      "cell_type": "code",
      "metadata": {
        "id": "Bspf3SInJ5Yu"
      },
      "source": [
        "# Preprocessing\n",
        "# \n",
        "X = financialdf.drop('bank_account',1)\n",
        "y = financialdf['bank_account']\n"
      ],
      "execution_count": 52,
      "outputs": []
    },
    {
      "cell_type": "code",
      "metadata": {
        "id": "4uCKkkxNazgL"
      },
      "source": [
        "# Splitting the dataset into the Training set and Test set\n",
        "from sklearn.model_selection import train_test_split\n",
        "\n",
        "X_train, X_test, y_train, y_test = train_test_split(X, y, test_size=0.2, random_state=0)"
      ],
      "execution_count": 53,
      "outputs": []
    },
    {
      "cell_type": "code",
      "metadata": {
        "id": "XRKOTJ2r9ngJ"
      },
      "source": [
        "# perform standard scalar normalization to normalize our feature set.\n",
        "from sklearn.preprocessing import StandardScaler\n",
        "\n",
        "sc = StandardScaler()\n",
        "X_train = sc.fit_transform(X_train)\n",
        "X_test = sc.transform(X_test)\n"
      ],
      "execution_count": 54,
      "outputs": []
    },
    {
      "cell_type": "code",
      "metadata": {
        "id": "q0XEq4auazuY"
      },
      "source": [
        "# Next we apply the PCA\n",
        "from sklearn.decomposition import PCA\n",
        "\n",
        "pca = PCA()\n",
        "X_train = pca.fit_transform(X_train)\n",
        "X_test = pca.transform(X_test)"
      ],
      "execution_count": 55,
      "outputs": []
    },
    {
      "cell_type": "code",
      "metadata": {
        "colab": {
          "base_uri": "https://localhost:8080/"
        },
        "id": "xmqkztm9az6p",
        "outputId": "399d9d18-4821-4f86-96b2-421c6c959eef"
      },
      "source": [
        "# Obtaining the Explained Variance Ratio\n",
        "explained_variance = pca.explained_variance_ratio_\n",
        "explained_variance"
      ],
      "execution_count": 56,
      "outputs": [
        {
          "output_type": "execute_result",
          "data": {
            "text/plain": [
              "array([0.21093359, 0.17173447, 0.14209085, 0.12022585, 0.10832926,\n",
              "       0.09076662, 0.08335956, 0.0725598 ])"
            ]
          },
          "metadata": {
            "tags": []
          },
          "execution_count": 56
        }
      ]
    },
    {
      "cell_type": "code",
      "metadata": {
        "id": "mgrSWMnvbEMM"
      },
      "source": [
        "# We use the 2 Principal Component to train our algorithm\n",
        "from sklearn.decomposition import PCA\n",
        "\n",
        "pca = PCA(n_components=8)\n",
        "X_train = pca.fit_transform(X_train)\n",
        "X_test = pca.transform(X_test)"
      ],
      "execution_count": 81,
      "outputs": []
    },
    {
      "cell_type": "code",
      "metadata": {
        "id": "DFe4JAE-bEYM"
      },
      "source": [
        "# Training and making predictions\n",
        "X_train, X_test, y_train, y_test = train_test_split(X, y, test_size=0.2, random_state=0)\n",
        "\n",
        "sc = StandardScaler()\n",
        "X_train = sc.fit_transform(X_train)\n",
        "X_test = sc.transform(X_test)"
      ],
      "execution_count": 82,
      "outputs": []
    },
    {
      "cell_type": "code",
      "metadata": {
        "id": "2YgiUVnObEqq"
      },
      "source": [
        "from sklearn.ensemble import RandomForestClassifier\n",
        "\n",
        "classifier = RandomForestClassifier(max_depth=2, random_state=0)\n",
        "classifier.fit(X_train, y_train)\n",
        "\n",
        "# Predicting the Test set results\n",
        "y_pred = classifier.predict(X_test)"
      ],
      "execution_count": 83,
      "outputs": []
    },
    {
      "cell_type": "code",
      "metadata": {
        "colab": {
          "base_uri": "https://localhost:8080/"
        },
        "id": "JezyM76_bVd5",
        "outputId": "900c7cae-8cb5-4308-a349-4ddbc310860e"
      },
      "source": [
        "# Perform Evaluations.\n",
        "from sklearn.metrics import confusion_matrix\n",
        "from sklearn.metrics import accuracy_score\n",
        "\n",
        "cm = confusion_matrix(y_test, y_pred)\n",
        "print(cm)\n",
        "print('Accuracy' , accuracy_score(y_test, y_pred))\n",
        "\n",
        "# We get an accuracy of 86.04%."
      ],
      "execution_count": 84,
      "outputs": [
        {
          "output_type": "stream",
          "text": [
            "[[4000    6]\n",
            " [ 652   47]]\n",
            "Accuracy 0.8601487778958554\n"
          ],
          "name": "stdout"
        }
      ]
    },
    {
      "cell_type": "markdown",
      "metadata": {
        "id": "e9UxkMbesyjc"
      },
      "source": [
        "Factor Analysis."
      ]
    },
    {
      "cell_type": "code",
      "metadata": {
        "colab": {
          "base_uri": "https://localhost:8080/",
          "height": 198
        },
        "id": "Zr3Hy9OmbVnF",
        "outputId": "39302e9c-0fd4-4c8f-9619-d78541cb99a5"
      },
      "source": [
        "# Previewing our dataset\n",
        "financialdf.head(5)"
      ],
      "execution_count": 62,
      "outputs": [
        {
          "output_type": "execute_result",
          "data": {
            "text/html": [
              "<div>\n",
              "<style scoped>\n",
              "    .dataframe tbody tr th:only-of-type {\n",
              "        vertical-align: middle;\n",
              "    }\n",
              "\n",
              "    .dataframe tbody tr th {\n",
              "        vertical-align: top;\n",
              "    }\n",
              "\n",
              "    .dataframe thead th {\n",
              "        text-align: right;\n",
              "    }\n",
              "</style>\n",
              "<table border=\"1\" class=\"dataframe\">\n",
              "  <thead>\n",
              "    <tr style=\"text-align: right;\">\n",
              "      <th></th>\n",
              "      <th>bank_account</th>\n",
              "      <th>location</th>\n",
              "      <th>cellphone_access</th>\n",
              "      <th>household_size</th>\n",
              "      <th>respondent_age</th>\n",
              "      <th>gender_of_respondent</th>\n",
              "      <th>marital_status</th>\n",
              "      <th>education_level</th>\n",
              "      <th>job_type</th>\n",
              "    </tr>\n",
              "  </thead>\n",
              "  <tbody>\n",
              "    <tr>\n",
              "      <th>0</th>\n",
              "      <td>1</td>\n",
              "      <td>1</td>\n",
              "      <td>1</td>\n",
              "      <td>3.0</td>\n",
              "      <td>24.0</td>\n",
              "      <td>1</td>\n",
              "      <td>1</td>\n",
              "      <td>2</td>\n",
              "      <td>0</td>\n",
              "    </tr>\n",
              "    <tr>\n",
              "      <th>1</th>\n",
              "      <td>0</td>\n",
              "      <td>1</td>\n",
              "      <td>0</td>\n",
              "      <td>5.0</td>\n",
              "      <td>70.0</td>\n",
              "      <td>1</td>\n",
              "      <td>3</td>\n",
              "      <td>0</td>\n",
              "      <td>1</td>\n",
              "    </tr>\n",
              "    <tr>\n",
              "      <th>2</th>\n",
              "      <td>1</td>\n",
              "      <td>0</td>\n",
              "      <td>1</td>\n",
              "      <td>5.0</td>\n",
              "      <td>26.0</td>\n",
              "      <td>0</td>\n",
              "      <td>2</td>\n",
              "      <td>4</td>\n",
              "      <td>0</td>\n",
              "    </tr>\n",
              "    <tr>\n",
              "      <th>3</th>\n",
              "      <td>0</td>\n",
              "      <td>1</td>\n",
              "      <td>1</td>\n",
              "      <td>5.0</td>\n",
              "      <td>34.0</td>\n",
              "      <td>1</td>\n",
              "      <td>1</td>\n",
              "      <td>1</td>\n",
              "      <td>2</td>\n",
              "    </tr>\n",
              "    <tr>\n",
              "      <th>4</th>\n",
              "      <td>0</td>\n",
              "      <td>0</td>\n",
              "      <td>0</td>\n",
              "      <td>8.0</td>\n",
              "      <td>26.0</td>\n",
              "      <td>0</td>\n",
              "      <td>2</td>\n",
              "      <td>1</td>\n",
              "      <td>3</td>\n",
              "    </tr>\n",
              "  </tbody>\n",
              "</table>\n",
              "</div>"
            ],
            "text/plain": [
              "   bank_account  location  ...  education_level  job_type\n",
              "0             1         1  ...                2         0\n",
              "1             0         1  ...                0         1\n",
              "2             1         0  ...                4         0\n",
              "3             0         1  ...                1         2\n",
              "4             0         0  ...                1         3\n",
              "\n",
              "[5 rows x 9 columns]"
            ]
          },
          "metadata": {
            "tags": []
          },
          "execution_count": 62
        }
      ]
    },
    {
      "cell_type": "code",
      "metadata": {
        "colab": {
          "base_uri": "https://localhost:8080/"
        },
        "id": "KtClJV4wbVwR",
        "outputId": "f3257b5d-df00-4033-9ead-bf79c88a18a9"
      },
      "source": [
        "# Performing the adeduacy test\n",
        "\n",
        "!pip install factor_analyzer==0.2.3\n",
        "\n",
        "from factor_analyzer.factor_analyzer import calculate_bartlett_sphericity\n",
        "\n",
        "chi_square_value,p_value=calculate_bartlett_sphericity(financialdf)\n",
        "chi_square_value, p_value\n",
        "\n",
        "# The p-value is 0 and statistically significant, thus we can proceed with the factor anlysis"
      ],
      "execution_count": 64,
      "outputs": [
        {
          "output_type": "stream",
          "text": [
            "Requirement already satisfied: factor_analyzer==0.2.3 in /usr/local/lib/python3.7/dist-packages (0.2.3)\n",
            "Requirement already satisfied: pandas in /usr/local/lib/python3.7/dist-packages (from factor_analyzer==0.2.3) (1.1.5)\n",
            "Requirement already satisfied: numpy in /usr/local/lib/python3.7/dist-packages (from factor_analyzer==0.2.3) (1.19.5)\n",
            "Requirement already satisfied: scipy in /usr/local/lib/python3.7/dist-packages (from factor_analyzer==0.2.3) (1.4.1)\n",
            "Requirement already satisfied: pytz>=2017.2 in /usr/local/lib/python3.7/dist-packages (from pandas->factor_analyzer==0.2.3) (2018.9)\n",
            "Requirement already satisfied: python-dateutil>=2.7.3 in /usr/local/lib/python3.7/dist-packages (from pandas->factor_analyzer==0.2.3) (2.8.1)\n",
            "Requirement already satisfied: six>=1.5 in /usr/local/lib/python3.7/dist-packages (from python-dateutil>=2.7.3->pandas->factor_analyzer==0.2.3) (1.15.0)\n"
          ],
          "name": "stdout"
        },
        {
          "output_type": "execute_result",
          "data": {
            "text/plain": [
              "(15749.840362504803, 0.0)"
            ]
          },
          "metadata": {
            "tags": []
          },
          "execution_count": 64
        }
      ]
    },
    {
      "cell_type": "code",
      "metadata": {
        "id": "vVLsj8RDbWDd"
      },
      "source": [
        "#\n",
        "from factor_analyzer import FactorAnalyzer"
      ],
      "execution_count": 65,
      "outputs": []
    },
    {
      "cell_type": "code",
      "metadata": {
        "id": "1WjEp6Rsuhq_"
      },
      "source": [
        "# Using Kaiser-Meyer-Olkin (KMO) Test to measure the suitability of data for factor analysis.\n",
        "from factor_analyzer.factor_analyzer import calculate_kmo\n",
        "\n",
        "kmo_all,kmo_model=calculate_kmo(financialdf)"
      ],
      "execution_count": 66,
      "outputs": []
    },
    {
      "cell_type": "code",
      "metadata": {
        "colab": {
          "base_uri": "https://localhost:8080/",
          "height": 318
        },
        "id": "H155ZST8uh-T",
        "outputId": "32c0e24f-c1ea-4887-ca1e-25b18f788cd3"
      },
      "source": [
        "# Choosing the number of factors\n",
        "fa = FactorAnalyzer()\n",
        "fa.analyze(financialdf, 9, rotation=None)\n",
        "\n",
        "ev, v = fa.get_eigenvalues()\n",
        "ev\n",
        "\n",
        "# We have gotten 4-factors eigenvalues which are greater than one thus we need to choose only 4 factors (or unobserved variables)\n"
      ],
      "execution_count": 70,
      "outputs": [
        {
          "output_type": "execute_result",
          "data": {
            "text/html": [
              "<div>\n",
              "<style scoped>\n",
              "    .dataframe tbody tr th:only-of-type {\n",
              "        vertical-align: middle;\n",
              "    }\n",
              "\n",
              "    .dataframe tbody tr th {\n",
              "        vertical-align: top;\n",
              "    }\n",
              "\n",
              "    .dataframe thead th {\n",
              "        text-align: right;\n",
              "    }\n",
              "</style>\n",
              "<table border=\"1\" class=\"dataframe\">\n",
              "  <thead>\n",
              "    <tr style=\"text-align: right;\">\n",
              "      <th></th>\n",
              "      <th>Original_Eigenvalues</th>\n",
              "    </tr>\n",
              "  </thead>\n",
              "  <tbody>\n",
              "    <tr>\n",
              "      <th>0</th>\n",
              "      <td>1.799082</td>\n",
              "    </tr>\n",
              "    <tr>\n",
              "      <th>1</th>\n",
              "      <td>1.470749</td>\n",
              "    </tr>\n",
              "    <tr>\n",
              "      <th>2</th>\n",
              "      <td>1.135002</td>\n",
              "    </tr>\n",
              "    <tr>\n",
              "      <th>3</th>\n",
              "      <td>1.086574</td>\n",
              "    </tr>\n",
              "    <tr>\n",
              "      <th>4</th>\n",
              "      <td>0.867545</td>\n",
              "    </tr>\n",
              "    <tr>\n",
              "      <th>5</th>\n",
              "      <td>0.758460</td>\n",
              "    </tr>\n",
              "    <tr>\n",
              "      <th>6</th>\n",
              "      <td>0.724873</td>\n",
              "    </tr>\n",
              "    <tr>\n",
              "      <th>7</th>\n",
              "      <td>0.657566</td>\n",
              "    </tr>\n",
              "    <tr>\n",
              "      <th>8</th>\n",
              "      <td>0.500148</td>\n",
              "    </tr>\n",
              "  </tbody>\n",
              "</table>\n",
              "</div>"
            ],
            "text/plain": [
              "   Original_Eigenvalues\n",
              "0              1.799082\n",
              "1              1.470749\n",
              "2              1.135002\n",
              "3              1.086574\n",
              "4              0.867545\n",
              "5              0.758460\n",
              "6              0.724873\n",
              "7              0.657566\n",
              "8              0.500148"
            ]
          },
          "metadata": {
            "tags": []
          },
          "execution_count": 70
        }
      ]
    },
    {
      "cell_type": "code",
      "metadata": {
        "colab": {
          "base_uri": "https://localhost:8080/",
          "height": 295
        },
        "id": "E_KqH9IouiVs",
        "outputId": "fd509770-19b3-4e0b-d908-487490e9eaab"
      },
      "source": [
        "# Creating a scree plot for the eigen values using matplotlib\n",
        "\n",
        "plt.scatter(range(1,financialdf.shape[1]+1),ev)\n",
        "plt.plot(range(1,financialdf.shape[1]+1),ev)\n",
        "plt.title('Scree Plot')\n",
        "plt.xlabel('Factors')\n",
        "plt.ylabel('Eigenvalue')\n",
        "plt.grid()\n",
        "plt.show()\n",
        "\n",
        "# Only four factors are greater than one"
      ],
      "execution_count": 71,
      "outputs": [
        {
          "output_type": "display_data",
          "data": {
            "image/png": "[encoded data removed]",
            "text/plain": [
              "<Figure size 432x288 with 1 Axes>"
            ]
          },
          "metadata": {
            "tags": [],
            "needs_background": "light"
          }
        }
      ]
    },
    {
      "cell_type": "code",
      "metadata": {
        "colab": {
          "base_uri": "https://localhost:8080/",
          "height": 318
        },
        "id": "BwBYTu4wu0BQ",
        "outputId": "936b1f7b-580e-48e0-c228-44942753730f"
      },
      "source": [
        "# Performing a factor analysis\n",
        "\n",
        "fa = FactorAnalyzer()\n",
        "fa.analyze(financialdf, 4, rotation=\"varimax\")\n",
        "fa.loadings\n",
        "\n",
        "# Factor 1 has high loadings for bank account and education level\n",
        "# Factor 2 has high loadings for location and household size\n",
        "# Factor 3 has high loadings for respondent age."
      ],
      "execution_count": 78,
      "outputs": [
        {
          "output_type": "execute_result",
          "data": {
            "text/html": [
              "<div>\n",
              "<style scoped>\n",
              "    .dataframe tbody tr th:only-of-type {\n",
              "        vertical-align: middle;\n",
              "    }\n",
              "\n",
              "    .dataframe tbody tr th {\n",
              "        vertical-align: top;\n",
              "    }\n",
              "\n",
              "    .dataframe thead th {\n",
              "        text-align: right;\n",
              "    }\n",
              "</style>\n",
              "<table border=\"1\" class=\"dataframe\">\n",
              "  <thead>\n",
              "    <tr style=\"text-align: right;\">\n",
              "      <th></th>\n",
              "      <th>Factor1</th>\n",
              "      <th>Factor2</th>\n",
              "      <th>Factor3</th>\n",
              "      <th>Factor4</th>\n",
              "    </tr>\n",
              "  </thead>\n",
              "  <tbody>\n",
              "    <tr>\n",
              "      <th>bank_account</th>\n",
              "      <td>0.568537</td>\n",
              "      <td>-0.061172</td>\n",
              "      <td>0.063596</td>\n",
              "      <td>-0.040739</td>\n",
              "    </tr>\n",
              "    <tr>\n",
              "      <th>location</th>\n",
              "      <td>-0.078707</td>\n",
              "      <td>0.546197</td>\n",
              "      <td>0.080109</td>\n",
              "      <td>0.084785</td>\n",
              "    </tr>\n",
              "    <tr>\n",
              "      <th>cellphone_access</th>\n",
              "      <td>0.365046</td>\n",
              "      <td>0.186208</td>\n",
              "      <td>-0.069049</td>\n",
              "      <td>-0.123769</td>\n",
              "    </tr>\n",
              "    <tr>\n",
              "      <th>household_size</th>\n",
              "      <td>0.022728</td>\n",
              "      <td>0.519684</td>\n",
              "      <td>-0.098191</td>\n",
              "      <td>0.062244</td>\n",
              "    </tr>\n",
              "    <tr>\n",
              "      <th>respondent_age</th>\n",
              "      <td>-0.078271</td>\n",
              "      <td>-0.050484</td>\n",
              "      <td>0.919541</td>\n",
              "      <td>-0.046366</td>\n",
              "    </tr>\n",
              "    <tr>\n",
              "      <th>gender_of_respondent</th>\n",
              "      <td>-0.197871</td>\n",
              "      <td>-0.058550</td>\n",
              "      <td>-0.010508</td>\n",
              "      <td>0.295923</td>\n",
              "    </tr>\n",
              "    <tr>\n",
              "      <th>marital_status</th>\n",
              "      <td>-0.143460</td>\n",
              "      <td>-0.299421</td>\n",
              "      <td>0.233608</td>\n",
              "      <td>0.182804</td>\n",
              "    </tr>\n",
              "    <tr>\n",
              "      <th>education_level</th>\n",
              "      <td>0.678140</td>\n",
              "      <td>-0.105495</td>\n",
              "      <td>-0.269645</td>\n",
              "      <td>0.092415</td>\n",
              "    </tr>\n",
              "    <tr>\n",
              "      <th>job_type</th>\n",
              "      <td>0.086493</td>\n",
              "      <td>0.171006</td>\n",
              "      <td>-0.008777</td>\n",
              "      <td>0.466898</td>\n",
              "    </tr>\n",
              "  </tbody>\n",
              "</table>\n",
              "</div>"
            ],
            "text/plain": [
              "                       Factor1   Factor2   Factor3   Factor4\n",
              "bank_account          0.568537 -0.061172  0.063596 -0.040739\n",
              "location             -0.078707  0.546197  0.080109  0.084785\n",
              "cellphone_access      0.365046  0.186208 -0.069049 -0.123769\n",
              "household_size        0.022728  0.519684 -0.098191  0.062244\n",
              "respondent_age       -0.078271 -0.050484  0.919541 -0.046366\n",
              "gender_of_respondent -0.197871 -0.058550 -0.010508  0.295923\n",
              "marital_status       -0.143460 -0.299421  0.233608  0.182804\n",
              "education_level       0.678140 -0.105495 -0.269645  0.092415\n",
              "job_type              0.086493  0.171006 -0.008777  0.466898"
            ]
          },
          "metadata": {
            "tags": []
          },
          "execution_count": 78
        }
      ]
    },
    {
      "cell_type": "code",
      "metadata": {
        "colab": {
          "base_uri": "https://localhost:8080/",
          "height": 318
        },
        "id": "Q1Xr0NcYu0R-",
        "outputId": "6ecb1bf5-791f-4ae3-b227-44f942692eea"
      },
      "source": [
        "# Factor analysis using three factors\n",
        "\n",
        "fa = FactorAnalyzer()\n",
        "fa.analyze(financialdf, 3, rotation=\"varimax\")\n",
        "fa.loadings\n",
        "\n",
        "# Factor 1 has high loadings for respondent age\n",
        "# Factor 2 has high loadings for education level\n"
      ],
      "execution_count": 79,
      "outputs": [
        {
          "output_type": "execute_result",
          "data": {
            "text/html": [
              "<div>\n",
              "<style scoped>\n",
              "    .dataframe tbody tr th:only-of-type {\n",
              "        vertical-align: middle;\n",
              "    }\n",
              "\n",
              "    .dataframe tbody tr th {\n",
              "        vertical-align: top;\n",
              "    }\n",
              "\n",
              "    .dataframe thead th {\n",
              "        text-align: right;\n",
              "    }\n",
              "</style>\n",
              "<table border=\"1\" class=\"dataframe\">\n",
              "  <thead>\n",
              "    <tr style=\"text-align: right;\">\n",
              "      <th></th>\n",
              "      <th>Factor1</th>\n",
              "      <th>Factor2</th>\n",
              "      <th>Factor3</th>\n",
              "    </tr>\n",
              "  </thead>\n",
              "  <tbody>\n",
              "    <tr>\n",
              "      <th>bank_account</th>\n",
              "      <td>0.033472</td>\n",
              "      <td>0.595454</td>\n",
              "      <td>-0.068018</td>\n",
              "    </tr>\n",
              "    <tr>\n",
              "      <th>location</th>\n",
              "      <td>0.102265</td>\n",
              "      <td>-0.084965</td>\n",
              "      <td>0.558493</td>\n",
              "    </tr>\n",
              "    <tr>\n",
              "      <th>cellphone_access</th>\n",
              "      <td>-0.069127</td>\n",
              "      <td>0.379911</td>\n",
              "      <td>0.179815</td>\n",
              "    </tr>\n",
              "    <tr>\n",
              "      <th>household_size</th>\n",
              "      <td>-0.071053</td>\n",
              "      <td>0.018989</td>\n",
              "      <td>0.534631</td>\n",
              "    </tr>\n",
              "    <tr>\n",
              "      <th>respondent_age</th>\n",
              "      <td>0.992586</td>\n",
              "      <td>-0.035387</td>\n",
              "      <td>-0.098066</td>\n",
              "    </tr>\n",
              "    <tr>\n",
              "      <th>gender_of_respondent</th>\n",
              "      <td>-0.013027</td>\n",
              "      <td>-0.213985</td>\n",
              "      <td>-0.025131</td>\n",
              "    </tr>\n",
              "    <tr>\n",
              "      <th>marital_status</th>\n",
              "      <td>0.195679</td>\n",
              "      <td>-0.156917</td>\n",
              "      <td>-0.271518</td>\n",
              "    </tr>\n",
              "    <tr>\n",
              "      <th>education_level</th>\n",
              "      <td>-0.285539</td>\n",
              "      <td>0.608140</td>\n",
              "      <td>-0.068992</td>\n",
              "    </tr>\n",
              "    <tr>\n",
              "      <th>job_type</th>\n",
              "      <td>-0.030563</td>\n",
              "      <td>0.025667</td>\n",
              "      <td>0.166940</td>\n",
              "    </tr>\n",
              "  </tbody>\n",
              "</table>\n",
              "</div>"
            ],
            "text/plain": [
              "                       Factor1   Factor2   Factor3\n",
              "bank_account          0.033472  0.595454 -0.068018\n",
              "location              0.102265 -0.084965  0.558493\n",
              "cellphone_access     -0.069127  0.379911  0.179815\n",
              "household_size       -0.071053  0.018989  0.534631\n",
              "respondent_age        0.992586 -0.035387 -0.098066\n",
              "gender_of_respondent -0.013027 -0.213985 -0.025131\n",
              "marital_status        0.195679 -0.156917 -0.271518\n",
              "education_level      -0.285539  0.608140 -0.068992\n",
              "job_type             -0.030563  0.025667  0.166940"
            ]
          },
          "metadata": {
            "tags": []
          },
          "execution_count": 79
        }
      ]
    },
    {
      "cell_type": "code",
      "metadata": {
        "colab": {
          "base_uri": "https://localhost:8080/",
          "height": 138
        },
        "id": "Ud5WdMnUu0ns",
        "outputId": "2c203aa6-6ae2-4be0-804f-49d5c4062a2f"
      },
      "source": [
        "# Calculating the Variance\n",
        "fa.get_factor_variance()\n",
        "\n",
        "# The Cumulative variance is 31.4%. "
      ],
      "execution_count": 80,
      "outputs": [
        {
          "output_type": "execute_result",
          "data": {
            "text/html": [
              "<div>\n",
              "<style scoped>\n",
              "    .dataframe tbody tr th:only-of-type {\n",
              "        vertical-align: middle;\n",
              "    }\n",
              "\n",
              "    .dataframe tbody tr th {\n",
              "        vertical-align: top;\n",
              "    }\n",
              "\n",
              "    .dataframe thead th {\n",
              "        text-align: right;\n",
              "    }\n",
              "</style>\n",
              "<table border=\"1\" class=\"dataframe\">\n",
              "  <thead>\n",
              "    <tr style=\"text-align: right;\">\n",
              "      <th></th>\n",
              "      <th>Factor1</th>\n",
              "      <th>Factor2</th>\n",
              "      <th>Factor3</th>\n",
              "    </tr>\n",
              "  </thead>\n",
              "  <tbody>\n",
              "    <tr>\n",
              "      <th>SS Loadings</th>\n",
              "      <td>1.127559</td>\n",
              "      <td>0.948635</td>\n",
              "      <td>0.751304</td>\n",
              "    </tr>\n",
              "    <tr>\n",
              "      <th>Proportion Var</th>\n",
              "      <td>0.125284</td>\n",
              "      <td>0.105404</td>\n",
              "      <td>0.083478</td>\n",
              "    </tr>\n",
              "    <tr>\n",
              "      <th>Cumulative Var</th>\n",
              "      <td>0.125284</td>\n",
              "      <td>0.230688</td>\n",
              "      <td>0.314166</td>\n",
              "    </tr>\n",
              "  </tbody>\n",
              "</table>\n",
              "</div>"
            ],
            "text/plain": [
              "                 Factor1   Factor2   Factor3\n",
              "SS Loadings     1.127559  0.948635  0.751304\n",
              "Proportion Var  0.125284  0.105404  0.083478\n",
              "Cumulative Var  0.125284  0.230688  0.314166"
            ]
          },
          "metadata": {
            "tags": []
          },
          "execution_count": 80
        }
      ]
    }
  ]
}